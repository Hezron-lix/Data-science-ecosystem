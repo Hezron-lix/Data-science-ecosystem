{
 "cells": [
  {
   "cell_type": "markdown",
   "id": "22bf1e21",
   "metadata": {},
   "source": [
    "## Data Science Tools and Ecosystem"
   ]
  },
  {
   "cell_type": "markdown",
   "id": "c5227a30",
   "metadata": {},
   "source": [
    "In this notebook, Data Science Tools and Ecosystem are summarized."
   ]
  },
  {
   "cell_type": "markdown",
   "id": "cd478be9",
   "metadata": {},
   "source": [
    "### Author\n",
    "This notebook was created by Hezron Belix."
   ]
  },
  {
   "cell_type": "markdown",
   "id": "62aff247",
   "metadata": {},
   "source": [
    "### Objectives\n",
    "- Understand key data science languages\n",
    "- Familiarize with important libraries and tools\n",
    "- Learn basic arithmetic operations\n",
    "- Convert time units effectively\n"
   ]
  },
  {
   "cell_type": "markdown",
   "id": "c20ad544",
   "metadata": {},
   "source": [
    "## Data Science Languages\n",
    "- Python\n",
    "- R\n",
    "- SQL\n",
    "- Julia\n",
    "- Scala"
   ]
  },
  {
   "cell_type": "markdown",
   "id": "33bd1ce1",
   "metadata": {},
   "source": [
    "## Data Science Libraries\n",
    "- NumPy\n",
    "- Pandas\n",
    "- Matplotlib\n",
    "- Scikit-learn\n",
    "- TensorFlow\n"
   ]
  },
  {
   "cell_type": "markdown",
   "id": "eec114d8",
   "metadata": {},
   "source": [
    "## Arithmetic Expression Examples\n",
    "In this section, we will explore basic arithmetic expressions and their applications in data science.\n"
   ]
  },
  {
   "cell_type": "markdown",
   "id": "c96c4baa",
   "metadata": {},
   "source": [
    "## Data Science Tools\n",
    "\n",
    "| Tool           | Description                         |\n",
    "|----------------|-------------------------------------|\n",
    "| Jupyter        | Interactive notebook environment    |\n",
    "| RStudio        | IDE for R programming               |\n",
    "| Anaconda       | Package manager for Python          |\n",
    "| Tableau        | Data visualization software          |\n",
    "| Git            | Version control system               |\n"
   ]
  },
  {
   "cell_type": "code",
   "execution_count": 12,
   "id": "0c8402ee",
   "metadata": {},
   "outputs": [
    {
     "data": {
      "text/plain": [
       "17"
      ]
     },
     "execution_count": 12,
     "metadata": {},
     "output_type": "execute_result"
    }
   ],
   "source": [
    "# Exercise 8: Multiply and add numbers\n",
    "(3*4)+5"
   ]
  },
  {
   "cell_type": "code",
   "execution_count": 15,
   "id": "ee22a409",
   "metadata": {},
   "outputs": [
    {
     "data": {
      "text/plain": [
       "3.3333333333333335"
      ]
     },
     "execution_count": 15,
     "metadata": {},
     "output_type": "execute_result"
    }
   ],
   "source": [
    "# This will convert 200 minutes to hours by diving by 60\n",
    "200/60"
   ]
  },
  {
   "cell_type": "code",
   "execution_count": null,
   "id": "75b8440b",
   "metadata": {},
   "outputs": [],
   "source": []
  }
 ],
 "metadata": {
  "kernelspec": {
   "display_name": "Python 3 (ipykernel)",
   "language": "python",
   "name": "python3"
  },
  "language_info": {
   "codemirror_mode": {
    "name": "ipython",
    "version": 3
   },
   "file_extension": ".py",
   "mimetype": "text/x-python",
   "name": "python",
   "nbconvert_exporter": "python",
   "pygments_lexer": "ipython3",
   "version": "3.11.3"
  }
 },
 "nbformat": 4,
 "nbformat_minor": 5
}
